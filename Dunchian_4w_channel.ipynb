{
 "cells": [
  {
   "cell_type": "markdown",
   "id": "f79022d6",
   "metadata": {},
   "source": [
    "## 던키안의 4주 채널 (1960)\n",
    "\n",
    "4주 채널\n",
    "\n",
    "전략 Summary\n",
    "\n",
    "    매수 : 4주 고가 채널을 상향 돌파할 때 매수\n",
    "    최초 손절매 : 4주 저가 채널을 하향 돌파할 때 매도\n",
    "\n",
    "    매도 : 4주 저가 채널을 하향 돌파할 때 매도\n",
    "    최초 손절매 : 4주 고가 채널을 상향 돌파할 때 매수"
   ]
  },
  {
   "cell_type": "code",
   "execution_count": 4,
   "id": "0268a465",
   "metadata": {},
   "outputs": [],
   "source": [
    "import pandas as pd\n",
    "import numpy as np\n",
    "import matplotlib.pyplot as plt"
   ]
  },
  {
   "cell_type": "code",
   "execution_count": 6,
   "id": "3fad22b2",
   "metadata": {},
   "outputs": [],
   "source": [
    "data = pd.read_csv(\"./data/eur.csv\",parse_dates=True, index_col=\"Date\")\n",
    "data = data.sort_index(ascending=True)"
   ]
  },
  {
   "cell_type": "markdown",
   "id": "2c5852c0",
   "metadata": {},
   "source": [
    "다양한 데이터 존재하나 여기서는 예시로 유로화 환율(최근 5년간)을 기준으로 살펴보겠다"
   ]
  },
  {
   "cell_type": "code",
   "execution_count": 7,
   "id": "1a65c3e8",
   "metadata": {},
   "outputs": [
    {
     "data": {
      "text/html": [
       "<div>\n",
       "<style scoped>\n",
       "    .dataframe tbody tr th:only-of-type {\n",
       "        vertical-align: middle;\n",
       "    }\n",
       "\n",
       "    .dataframe tbody tr th {\n",
       "        vertical-align: top;\n",
       "    }\n",
       "\n",
       "    .dataframe thead th {\n",
       "        text-align: right;\n",
       "    }\n",
       "</style>\n",
       "<table border=\"1\" class=\"dataframe\">\n",
       "  <thead>\n",
       "    <tr style=\"text-align: right;\">\n",
       "      <th></th>\n",
       "      <th>EUR</th>\n",
       "    </tr>\n",
       "    <tr>\n",
       "      <th>Date</th>\n",
       "      <th></th>\n",
       "    </tr>\n",
       "  </thead>\n",
       "  <tbody>\n",
       "    <tr>\n",
       "      <th>2016-12-30</th>\n",
       "      <td>1.0517</td>\n",
       "    </tr>\n",
       "    <tr>\n",
       "      <th>2017-01-02</th>\n",
       "      <td>1.0455</td>\n",
       "    </tr>\n",
       "    <tr>\n",
       "      <th>2017-01-03</th>\n",
       "      <td>1.0405</td>\n",
       "    </tr>\n",
       "    <tr>\n",
       "      <th>2017-01-04</th>\n",
       "      <td>1.0489</td>\n",
       "    </tr>\n",
       "    <tr>\n",
       "      <th>2017-01-05</th>\n",
       "      <td>1.0607</td>\n",
       "    </tr>\n",
       "    <tr>\n",
       "      <th>...</th>\n",
       "      <td>...</td>\n",
       "    </tr>\n",
       "    <tr>\n",
       "      <th>2021-12-23</th>\n",
       "      <td>1.1327</td>\n",
       "    </tr>\n",
       "    <tr>\n",
       "      <th>2021-12-24</th>\n",
       "      <td>1.1319</td>\n",
       "    </tr>\n",
       "    <tr>\n",
       "      <th>2021-12-27</th>\n",
       "      <td>1.1328</td>\n",
       "    </tr>\n",
       "    <tr>\n",
       "      <th>2021-12-28</th>\n",
       "      <td>1.1310</td>\n",
       "    </tr>\n",
       "    <tr>\n",
       "      <th>2021-12-29</th>\n",
       "      <td>1.1288</td>\n",
       "    </tr>\n",
       "  </tbody>\n",
       "</table>\n",
       "<p>1304 rows × 1 columns</p>\n",
       "</div>"
      ],
      "text/plain": [
       "               EUR\n",
       "Date              \n",
       "2016-12-30  1.0517\n",
       "2017-01-02  1.0455\n",
       "2017-01-03  1.0405\n",
       "2017-01-04  1.0489\n",
       "2017-01-05  1.0607\n",
       "...            ...\n",
       "2021-12-23  1.1327\n",
       "2021-12-24  1.1319\n",
       "2021-12-27  1.1328\n",
       "2021-12-28  1.1310\n",
       "2021-12-29  1.1288\n",
       "\n",
       "[1304 rows x 1 columns]"
      ]
     },
     "execution_count": 7,
     "metadata": {},
     "output_type": "execute_result"
    }
   ],
   "source": [
    "data"
   ]
  },
  {
   "cell_type": "code",
   "execution_count": 8,
   "id": "3cb9ee00",
   "metadata": {},
   "outputs": [],
   "source": [
    "status = 0\n",
    "trading_list = []"
   ]
  },
  {
   "cell_type": "markdown",
   "id": "ec1ef174",
   "metadata": {},
   "source": [
    "Status는 현재 매수 상황인지, 매도 상황인지를 알려주기 위한 변수 (매수는 1, 매도는 -1, 중립은 0)"
   ]
  },
  {
   "cell_type": "code",
   "execution_count": 9,
   "id": "97548053",
   "metadata": {},
   "outputs": [],
   "source": [
    "for i, j  in zip(data.index[:-20],data.index[20:]):\n",
    "    _4w_max = data[data.index>=i][:20].max().values[0]\n",
    "    _4w_min = data[data.index>=i][:20].min().values[0]\n",
    "    current_price = data[data.index==j].values[0][0]\n",
    "\n",
    "    if status == 0 :\n",
    "        if current_price > _4w_max:\n",
    "            status = 1\n",
    "            entry_price = _4w_max\n",
    "            entry_date = j\n",
    "        elif current_price < _4w_min:\n",
    "            status = -1\n",
    "            entry_price = _4w_min\n",
    "            entry_date = j\n",
    "    \n",
    "    elif status == 1:\n",
    "        if current_price < _4w_min:\n",
    "            exit_price = _4w_min\n",
    "            exit_date = j\n",
    "            trading_list = trading_list + [entry_date,exit_date,exit_price/entry_price-1]\n",
    "            \n",
    "            status = -1\n",
    "            entry_price = _4w_min\n",
    "            entry_date = j\n",
    "\n",
    "    \n",
    "    elif status == -1:\n",
    "        if current_price > _4w_max:\n",
    "            exit_price = _4w_max\n",
    "            exit_date = j\n",
    "            trading_list = trading_list + [entry_date,exit_date,-(exit_price/entry_price-1)]\n",
    "            \n",
    "            status = 1\n",
    "            entry_price = _4w_max\n",
    "            entry_date = j"
   ]
  },
  {
   "cell_type": "markdown",
   "id": "62214373",
   "metadata": {},
   "source": [
    "던키안 4주 채널 매매전략 코드 부분\n",
    "\n",
    "매수로 바뀔 때 진입 날짜와 진입 가격 기록하고 전략 exit 할 때 exit 날짜와 가격 기록하여 차이를 해당 전략의 성과로 기록\n",
    "\n",
    "매도도 마찬가지"
   ]
  },
  {
   "cell_type": "code",
   "execution_count": 10,
   "id": "209f6783",
   "metadata": {},
   "outputs": [],
   "source": [
    "total_ret = 1\n",
    "total_ret_list = []\n",
    "for i in range(0,int(len(trading_list)/3)):\n",
    "    ret = trading_list[3*i+2]\n",
    "    total_ret = total_ret * (1+ret)\n",
    "    total_ret_list = total_ret_list + [total_ret]"
   ]
  },
  {
   "cell_type": "markdown",
   "id": "30f30d82",
   "metadata": {},
   "source": [
    "각 전략의 성과를 모아서 해당 기간 동안 전체 성과 및 성과 변화 시계열 기록"
   ]
  },
  {
   "cell_type": "code",
   "execution_count": 12,
   "id": "1da86a01",
   "metadata": {},
   "outputs": [
    {
     "data": {
      "text/plain": [
       "1.0650940041665369"
      ]
     },
     "execution_count": 12,
     "metadata": {},
     "output_type": "execute_result"
    }
   ],
   "source": [
    "total_ret"
   ]
  },
  {
   "cell_type": "markdown",
   "id": "3452c911",
   "metadata": {},
   "source": [
    "해당 전략으로 5년 동안(16년 12월 ~ 21년 12월) 운용한 결과 전체 성과는 6.5%를 기록함\n",
    "\n",
    "나쁘지는 않은 성과이지만 그렇다고 환호할만큼은 아님"
   ]
  },
  {
   "cell_type": "code",
   "execution_count": 13,
   "id": "7367ac5b",
   "metadata": {},
   "outputs": [
    {
     "data": {
      "image/png": "[encoded data removed]",
      "text/plain": [
       "<Figure size 432x288 with 1 Axes>"
      ]
     },
     "metadata": {
      "needs_background": "light"
     },
     "output_type": "display_data"
    }
   ],
   "source": [
    "plt.plot(total_ret_list)\n",
    "plt.show()"
   ]
  },
  {
   "cell_type": "markdown",
   "id": "7b2285ea",
   "metadata": {},
   "source": [
    "5년간 전략 성과의 변화 모습\n",
    "\n",
    "대부분의 성과는 초반 전략 진입에서 나타났으며 이후에는 횡보하는 모습을 확인할 수 있음"
   ]
  },
  {
   "cell_type": "code",
   "execution_count": null,
   "id": "82495822",
   "metadata": {},
   "outputs": [],
   "source": []
  }
 ],
 "metadata": {
  "kernelspec": {
   "display_name": "Python 3 (ipykernel)",
   "language": "python",
   "name": "python3"
  },
  "language_info": {
   "codemirror_mode": {
    "name": "ipython",
    "version": 3
   },
   "file_extension": ".py",
   "mimetype": "text/x-python",
   "name": "python",
   "nbconvert_exporter": "python",
   "pygments_lexer": "ipython3",
   "version": "3.8.6rc1"
  }
 },
 "nbformat": 4,
 "nbformat_minor": 5
}
